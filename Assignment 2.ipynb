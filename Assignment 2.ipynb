{
 "cells": [
  {
   "cell_type": "markdown",
   "id": "1f80876e-5dfe-4096-a513-3e9af2b7146b",
   "metadata": {},
   "source": [
    "# Progarm 1\n",
    "Develop a program to track inventory of items in a store(CRUD operations on a dictinary)\n",
    "\n",
    "# What is CRUD operations\n",
    "C = create\n",
    "R = read\n",
    "U = update\n",
    "D = delete"
   ]
  },
  {
   "cell_type": "code",
   "execution_count": 11,
   "id": "36df8208-30c0-4dc1-846f-ea9550ff63bf",
   "metadata": {},
   "outputs": [
    {
     "name": "stdout",
     "output_type": "stream",
     "text": [
      "\n",
      "Inventory Management System\n",
      "1. Add item to inventory\n",
      "2. View item details\n",
      "3. View all items in inventory\n",
      "4. Update item details\n",
      "5. Delete item from inventory\n",
      "6. Exit\n"
     ]
    },
    {
     "name": "stdin",
     "output_type": "stream",
     "text": [
      "Enter your choice:  1\n",
      "Enter item name:  apple\n",
      "Enter quantity:  20\n",
      "Enter price:  100\n"
     ]
    },
    {
     "name": "stdout",
     "output_type": "stream",
     "text": [
      "Item 'apple' added to the inventory.\n",
      "\n",
      "Inventory Management System\n",
      "1. Add item to inventory\n",
      "2. View item details\n",
      "3. View all items in inventory\n",
      "4. Update item details\n",
      "5. Delete item from inventory\n",
      "6. Exit\n"
     ]
    },
    {
     "name": "stdin",
     "output_type": "stream",
     "text": [
      "Enter your choice:  6\n"
     ]
    }
   ],
   "source": [
    "class Inventory:\n",
    "    def __init__(self):\n",
    "        self.items = {}\n",
    "\n",
    "    def create(self, item_name, quantity, price):\n",
    "        if item_name in self.items:\n",
    "            print(\"Item already exists in the inventory.\")\n",
    "        else:\n",
    "            self.items[item_name] = {\"quantity\": quantity, \"price\": price}\n",
    "            print(f\"Item '{item_name}' added to the inventory.\")\n",
    "\n",
    "    def read(self, item_name=None):\n",
    "        if item_name:\n",
    "            if item_name in self.items:\n",
    "                print(f\"Item: {item_name}, Quantity: {self.items[item_name]['quantity']}, Price: {self.items[item_name]['price']}\")\n",
    "            else:\n",
    "                print(f\"Item '{item_name}' not found in the inventory.\")\n",
    "        else:\n",
    "            for item, details in self.items.items():\n",
    "                print(f\"Item: {item}, Quantity: {details['quantity']}, Price: {details['price']}\")\n",
    "\n",
    "    def update(self, item_name, quantity=None, price=None):\n",
    "        if item_name in self.items:\n",
    "            if quantity:\n",
    "                self.items[item_name][\"quantity\"] = quantity\n",
    "            if price:\n",
    "                self.items[item_name][\"price\"] = price\n",
    "            print(f\"Item '{item_name}' updated in the inventory.\")\n",
    "        else:\n",
    "            print(f\"Item '{item_name}' not found in the inventory.\")\n",
    "\n",
    "    def delete(self, item_name):\n",
    "        if item_name in self.items:\n",
    "            del self.items[item_name]\n",
    "            print(f\"Item '{item_name}' deleted from the inventory.\")\n",
    "        else:\n",
    "            print(f\"Item '{item_name}' not found in the inventory.\")\n",
    "\n",
    "def main():\n",
    "    inventory = Inventory()\n",
    "\n",
    "    while True:\n",
    "        print(\"\\nInventory Management System\")\n",
    "        print(\"1. Add item to inventory\")\n",
    "        print(\"2. View item details\")\n",
    "        print(\"3. View all items in inventory\")\n",
    "        print(\"4. Update item details\")\n",
    "        print(\"5. Delete item from inventory\")\n",
    "        print(\"6. Exit\")\n",
    "\n",
    "        choice = input(\"Enter your choice: \")\n",
    "\n",
    "        if choice == \"1\":\n",
    "            item_name = input(\"Enter item name: \")\n",
    "            quantity = int(input(\"Enter quantity: \"))\n",
    "            price = float(input(\"Enter price: \"))\n",
    "            inventory.create(item_name, quantity, price)\n",
    "        elif choice == \"2\":\n",
    "            item_name = input(\"Enter item name: \")\n",
    "            inventory.read(item_name)\n",
    "        elif choice == \"3\":\n",
    "            inventory.read()\n",
    "        elif choice == \"4\":\n",
    "            item_name = input(\"Enter item name: \")\n",
    "            quantity = input(\"Enter new quantity (press enter to skip): \")\n",
    "            price = input(\"Enter new price (press enter to skip): \")\n",
    "            quantity = int(quantity) if quantity else None\n",
    "            price = float(price) if price else None\n",
    "            inventory.update(item_name, quantity, price)\n",
    "        elif choice == \"5\":\n",
    "            item_name = input(\"Enter item name: \")\n",
    "            inventory.delete(item_name)\n",
    "        elif choice == \"6\":\n",
    "            break\n",
    "        else:\n",
    "            print(\"Invalid choice. Please try again.\")\n",
    "\n",
    "if __name__ == \"__main__\":\n",
    "    main()"
   ]
  },
  {
   "cell_type": "markdown",
   "id": "bf634adb-9fd4-41d0-b29e-104cdc405687",
   "metadata": {},
   "source": [
    "# Program 2\n",
    "\n",
    "Convert a string of integers (e.g., \"1,2,3\") into a list of integers and back to a string."
   ]
  },
  {
   "cell_type": "code",
   "execution_count": 14,
   "id": "8dd3b96a-bdda-4191-9431-a5b78b77f31e",
   "metadata": {},
   "outputs": [
    {
     "name": "stdout",
     "output_type": "stream",
     "text": [
      "Input String: 1,2,3,4,5\n",
      "List of Integers: [1, 2, 3, 4, 5]\n",
      "Output String: 1,2,3,4,5\n"
     ]
    }
   ],
   "source": [
    "# Conversion Functions\n",
    "\n",
    "def string_to_list(input_string):\n",
    "    \"\"\"\n",
    "    Convert a string of integers into a list of integers.\n",
    "    \n",
    "    Args:\n",
    "        input_string (str): A string of integers separated by commas.\n",
    "    \n",
    "    Returns:\n",
    "        list: A list of integers.\n",
    "    \"\"\"\n",
    "    return [int(num) for num in input_string.split(\",\")]\n",
    "\n",
    "def list_to_string(input_list):\n",
    "    \"\"\"\n",
    "    Convert a list of integers into a string of integers.\n",
    "    \n",
    "    Args:\n",
    "        input_list (list): A list of integers.\n",
    "    \n",
    "    Returns:\n",
    "        str: A string of integers separated by commas.\n",
    "    \"\"\"\n",
    "    return \",\".join(map(str, input_list))\n",
    "\n",
    "# Example usage\n",
    "input_string = \"1,2,3,4,5\"\n",
    "print(\"Input String:\", input_string)\n",
    "\n",
    "# Convert string to list\n",
    "num_list = string_to_list(input_string)\n",
    "print(\"List of Integers:\", num_list)\n",
    "\n",
    "# Convert list back to string\n",
    "output_string = list_to_string(num_list)\n",
    "print(\"Output String:\", output_string)"
   ]
  },
  {
   "cell_type": "markdown",
   "id": "c1d020d6-16cd-4a3b-b34c-eef34bcb62db",
   "metadata": {},
   "source": [
    "# Program 3\n",
    "Create a simple expense tracker where users can add, view, and delete expenses."
   ]
  },
  {
   "cell_type": "code",
   "execution_count": 16,
   "id": "df0a79d9-0659-474b-aefd-7cf100cdb99d",
   "metadata": {},
   "outputs": [
    {
     "name": "stdout",
     "output_type": "stream",
     "text": [
      "\n",
      "Expense Tracker\n",
      "1. Add Expense\n",
      "2. View Expenses\n",
      "3. Delete Expense\n",
      "4. Update Expense\n",
      "5. Exit\n"
     ]
    },
    {
     "name": "stdin",
     "output_type": "stream",
     "text": [
      "Enter your choice:  1\n",
      "Enter expense name:  25000\n",
      "Enter expense amount:  25000\n"
     ]
    },
    {
     "name": "stdout",
     "output_type": "stream",
     "text": [
      "Expense '25000' added successfully.\n",
      "\n",
      "Expense Tracker\n",
      "1. Add Expense\n",
      "2. View Expenses\n",
      "3. Delete Expense\n",
      "4. Update Expense\n",
      "5. Exit\n"
     ]
    },
    {
     "name": "stdin",
     "output_type": "stream",
     "text": [
      "Enter your choice:  5\n"
     ]
    }
   ],
   "source": [
    "class ExpenseTracker:\n",
    "    def __init__(self):\n",
    "        self.expenses = {}\n",
    "\n",
    "    def add_expense(self, name, amount):\n",
    "        if name in self.expenses:\n",
    "            print(\"Expense already exists. Please update instead.\")\n",
    "        else:\n",
    "            self.expenses[name] = amount\n",
    "            print(f\"Expense '{name}' added successfully.\")\n",
    "\n",
    "    def view_expenses(self):\n",
    "        if not self.expenses:\n",
    "            print(\"No expenses added yet.\")\n",
    "        else:\n",
    "            print(\"Expenses:\")\n",
    "            for name, amount in self.expenses.items():\n",
    "                print(f\"{name}: ${amount:.2f}\")\n",
    "\n",
    "    def delete_expense(self, name):\n",
    "        if name in self.expenses:\n",
    "            del self.expenses[name]\n",
    "            print(f\"Expense '{name}' deleted successfully.\")\n",
    "        else:\n",
    "            print(f\"Expense '{name}' not found.\")\n",
    "\n",
    "    def update_expense(self, name, amount):\n",
    "        if name in self.expenses:\n",
    "            self.expenses[name] = amount\n",
    "            print(f\"Expense '{name}' updated successfully.\")\n",
    "        else:\n",
    "            print(f\"Expense '{name}' not found.\")\n",
    "\n",
    "def main():\n",
    "    tracker = ExpenseTracker()\n",
    "\n",
    "    while True:\n",
    "        print(\"\\nExpense Tracker\")\n",
    "        print(\"1. Add Expense\")\n",
    "        print(\"2. View Expenses\")\n",
    "        print(\"3. Delete Expense\")\n",
    "        print(\"4. Update Expense\")\n",
    "        print(\"5. Exit\")\n",
    "\n",
    "        choice = input(\"Enter your choice: \")\n",
    "\n",
    "        if choice == \"1\":\n",
    "            name = input(\"Enter expense name: \")\n",
    "            amount = float(input(\"Enter expense amount: \"))\n",
    "            tracker.add_expense(name, amount)\n",
    "        elif choice == \"2\":\n",
    "            tracker.view_expenses()\n",
    "        elif choice == \"3\":\n",
    "            name = input(\"Enter expense name to delete: \")\n",
    "            tracker.delete_expense(name)\n",
    "        elif choice == \"4\":\n",
    "            name = input(\"Enter expense name to update: \")\n",
    "            amount = float(input(\"Enter new expense amount: \"))\n",
    "            tracker.update_expense(name, amount)\n",
    "        elif choice == \"5\":\n",
    "            break\n",
    "        else:\n",
    "            print(\"Invalid choice. Please try again.\")\n",
    "\n",
    "if __name__ == \"__main__\":\n",
    "    main()\n"
   ]
  },
  {
   "cell_type": "code",
   "execution_count": null,
   "id": "34b3c00e-292e-4cff-8e0e-2e33ddd60e1a",
   "metadata": {},
   "outputs": [],
   "source": []
  }
 ],
 "metadata": {
  "kernelspec": {
   "display_name": "Python 3 (ipykernel)",
   "language": "python",
   "name": "python3"
  },
  "language_info": {
   "codemirror_mode": {
    "name": "ipython",
    "version": 3
   },
   "file_extension": ".py",
   "mimetype": "text/x-python",
   "name": "python",
   "nbconvert_exporter": "python",
   "pygments_lexer": "ipython3",
   "version": "3.12.4"
  }
 },
 "nbformat": 4,
 "nbformat_minor": 5
}
