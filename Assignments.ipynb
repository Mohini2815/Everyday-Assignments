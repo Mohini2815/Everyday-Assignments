{
 "cells": [
  {
   "cell_type": "markdown",
   "id": "af5f040d-c231-43da-a2fe-eb443b725b4c",
   "metadata": {},
   "source": [
    "Assignment1(22.12.2024)"
   ]
  },
  {
   "cell_type": "markdown",
   "id": "19d2d2eb-bc05-48ab-8543-aba8f4c8d029",
   "metadata": {},
   "source": [
    "1. write a program which will find all such numbers which are divisible by 7 but are not a multiple of 5"
   ]
  },
  {
   "cell_type": "code",
   "execution_count": 9,
   "id": "faffef3c-de93-46d1-9a50-2a97d10edf95",
   "metadata": {},
   "outputs": [
    {
     "name": "stdout",
     "output_type": "stream",
     "text": [
      "Numbers dvisible by 7 but not multiple of 5:\n",
      "[7, 14, 21, 28, 42, 49, 56, 63, 77, 84, 91, 98]\n"
     ]
    }
   ],
   "source": [
    "def find_numbers():\n",
    "#find_numbers() function checks numbers between 1 to 100\n",
    "    numbers=[]\n",
    "    for i in range(1,100):\n",
    "        if i % 7 == 0 and i % 5 != 0:\n",
    "            numbers.append(i)\n",
    "    return numbers\n",
    "\n",
    "numbers=find_numbers()\n",
    "print(\"Numbers dvisible by 7 but not multiple of 5:\")\n",
    "print(numbers)\n",
    "\n",
    " "
   ]
  },
  {
   "cell_type": "markdown",
   "id": "73ddf556-fa68-45fe-acf0-05dade307684",
   "metadata": {},
   "source": [
    "2. write a program that accepts a sequence of whitespaces separated words as a input and prints the words after removing all duplicate words and sorting them alphanumerically"
   ]
  },
  {
   "cell_type": "code",
   "execution_count": 1,
   "id": "0acd27a2-94cf-4f1c-b0d6-8aaa4f488aba",
   "metadata": {},
   "outputs": [
    {
     "name": "stdin",
     "output_type": "stream",
     "text": [
      "Enter a sequence of whitespaces-separated words: hi my name is mohini\n"
     ]
    },
    {
     "name": "stdout",
     "output_type": "stream",
     "text": [
      "Sorted unique words:\n",
      "['hi', 'is', 'mohini', 'my', 'name']\n"
     ]
    }
   ],
   "source": [
    "def process_words():\n",
    "    #get input from user\n",
    "    user_input=input(\"Enter a sequence of whitespaces-separated words:\")\n",
    "    #split input into words\n",
    "    words=user_input.split()\n",
    "\n",
    "    #convert to set to remove duplicates\n",
    "    unique_words=set(words)\n",
    "    #convert set back to list and sort\n",
    "    sorted_words=sorted(list(unique_words))\n",
    "    #print sorted words\n",
    "    print(\"Sorted unique words:\")\n",
    "    print(sorted_words)\n",
    "\n",
    "process_words()\n",
    "\n",
    "\n"
   ]
  },
  {
   "cell_type": "markdown",
   "id": "707f337c-5bc0-4c69-a5dc-f58964f9f5f3",
   "metadata": {},
   "source": [
    "3.Reverse a sting without using built-in functions"
   ]
  },
  {
   "cell_type": "code",
   "execution_count": 7,
   "id": "129d0289-7a72-41f1-8ecd-0a8f82ba9caf",
   "metadata": {},
   "outputs": [
    {
     "name": "stdout",
     "output_type": "stream",
     "text": [
      "Original String:\n",
      "Reversed String:\n"
     ]
    },
    {
     "data": {
      "text/plain": [
       "'noonretfA dooG'"
      ]
     },
     "execution_count": 7,
     "metadata": {},
     "output_type": "execute_result"
    }
   ],
   "source": [
    "def reverse_string(s):\n",
    "    reversed_s=''\n",
    "    for char in s:\n",
    "        reversed_s=char+reversed_s\n",
    "    return reversed_s\n",
    "\n",
    "#test the function\n",
    "s=\"Good Afternoon\"\n",
    "print(\"Original String:\")\n",
    "print(\"Reversed String:\")\n",
    "reverse_string(s)"
   ]
  },
  {
   "cell_type": "markdown",
   "id": "5dc3996c-7eb9-48b9-ada4-4946dc799581",
   "metadata": {},
   "source": [
    "4. Rotate the elements of a  list (eg,[1,2,3,4] becomes[4,1,2,3])"
   ]
  },
  {
   "cell_type": "code",
   "execution_count": 14,
   "id": "1c12f31e-d05c-45a6-841d-ad96ae38d32c",
   "metadata": {},
   "outputs": [
    {
     "name": "stdout",
     "output_type": "stream",
     "text": [
      "Original list: [1, 2, 3, 4]\n",
      "Rotated list: [4, 1, 2, 3]\n"
     ]
    }
   ],
   "source": [
    "def rotate_list(list):\n",
    "    return lst[-1:]+lst[:-1]\n",
    "#test the function\n",
    "lst=[1,2,3,4]\n",
    "print(\"Original list:\",lst)\n",
    "print(\"Rotated list:\",rotate_list(lst))\n"
   ]
  },
  {
   "cell_type": "markdown",
   "id": "cf3b6315-a65e-4b6f-b22e-8b9c60b3d8d9",
   "metadata": {},
   "source": [
    "5. to merge two dictionaries , summing the values of common keys"
   ]
  },
  {
   "cell_type": "code",
   "execution_count": 15,
   "id": "632ead40-66f8-4808-aa9f-82dcf77b10e9",
   "metadata": {},
   "outputs": [
    {
     "name": "stdout",
     "output_type": "stream",
     "text": [
      "Dictionary1: {'a': '10', 'b': '20'}\n",
      "Dictionary2: {'b': '44', 'c': '55'}\n",
      "Merged Dictionary: {'a': '10', 'b': '2044', 'c': '55'}\n"
     ]
    }
   ],
   "source": [
    "#function\n",
    "def merge_dictionaries(dict1,dict2):\n",
    "    merged_dict={**dict1}\n",
    "    for key,value in dict2.items():\n",
    "        if key  in merged_dict:\n",
    "            merged_dict[key]+=value\n",
    "        else:\n",
    "            merged_dict[key]=value\n",
    "    return merged_dict\n",
    "#test the function\n",
    "dict1={'a':'10','b':'20'}\n",
    "dict2={'b':'44','c':'55'}\n",
    "\n",
    "print(\"Dictionary1:\",dict1)\n",
    "print(\"Dictionary2:\",dict2)\n",
    "print(\"Merged Dictionary:\",merge_dictionaries(dict1,dict2))"
   ]
  },
  {
   "cell_type": "markdown",
   "id": "8ce82171-44ec-4370-8161-591873f700a5",
   "metadata": {},
   "source": [
    "6. generate the fibonacci sequence up to n numbers"
   ]
  },
  {
   "cell_type": "code",
   "execution_count": 20,
   "id": "4648dcf0-de6a-4201-904f-5c93ea4f81f1",
   "metadata": {},
   "outputs": [
    {
     "name": "stdin",
     "output_type": "stream",
     "text": [
      "Enter the number of terms: 34\n"
     ]
    },
    {
     "name": "stdout",
     "output_type": "stream",
     "text": [
      "Fibonacci sequence up to 34 terms\n",
      "[0, 1, 1, 2, 3, 5, 8, 13, 21, 34, 55, 89, 144, 233, 377, 610, 987, 1597, 2584, 4181, 6765, 10946, 17711, 28657, 46368, 75025, 121393, 196418, 317811, 514229, 832040, 1346269, 2178309, 3524578]\n"
     ]
    }
   ],
   "source": [
    "def fibonacci(n):\n",
    "    fib_sequence=[0,1]\n",
    "    while len(fib_sequence)<n:\n",
    "        fib_sequence.append(fib_sequence[-1]+fib_sequence[-2])\n",
    "    return fib_sequence[:n]\n",
    "\n",
    "n=int(input(\"Enter the number of terms:\"))\n",
    "print(\"Fibonacci sequence up to\",n,\"terms\")\n",
    "print(fibonacci(n))"
   ]
  },
  {
   "cell_type": "markdown",
   "id": "5d12095b-d19b-46e0-931a-1d32811db3ec",
   "metadata": {},
   "source": [
    "7. program to count trailing zeros in a factorial"
   ]
  },
  {
   "cell_type": "code",
   "execution_count": 23,
   "id": "3b0a1669-c5ef-48cc-8fc2-075afbef9998",
   "metadata": {},
   "outputs": [
    {
     "name": "stdin",
     "output_type": "stream",
     "text": [
      "Enter a number: 23\n"
     ]
    },
    {
     "name": "stdout",
     "output_type": "stream",
     "text": [
      "Trailing zeros in 23 !: 4\n"
     ]
    }
   ],
   "source": [
    "def count_trailing_zeros(n):\n",
    "    count=0\n",
    "    i=5\n",
    "    while n//i>=1:\n",
    "        count+=n//i\n",
    "        i*=5\n",
    "    return count\n",
    "\n",
    "n=int(input(\"Enter a number:\"))\n",
    "print(\"Trailing zeros in\",n,\"!:\",count_trailing_zeros(n))"
   ]
  },
  {
   "cell_type": "markdown",
   "id": "72805de1-310b-41be-98cb-77cc15892dcc",
   "metadata": {},
   "source": [
    "8. pyramid pattern using nested loops"
   ]
  },
  {
   "cell_type": "code",
   "execution_count": 26,
   "id": "8eea489e-37ea-4548-957b-ad0c97ed5e7b",
   "metadata": {},
   "outputs": [
    {
     "name": "stdin",
     "output_type": "stream",
     "text": [
      "Enter the height of the pyramid: 5\n"
     ]
    },
    {
     "name": "stdout",
     "output_type": "stream",
     "text": [
      "    * \n",
      "   * * \n",
      "  * * * \n",
      " * * * * \n",
      "* * * * * \n"
     ]
    }
   ],
   "source": [
    "def print_pyramid(n):\n",
    "    for i in range(n):\n",
    "        print(\" \"*(n-i-1),end=\"\")\n",
    "        for j in range(i+1):\n",
    "            print(\"* \",end=\"\")\n",
    "        print()\n",
    "\n",
    "n=int(input(\"Enter the height of the pyramid:\"))\n",
    "print_pyramid(n)"
   ]
  },
  {
   "cell_type": "markdown",
   "id": "478c2295-7d12-4f46-9e14-b52ad1819fbf",
   "metadata": {},
   "source": [
    "10. find the top 3 most common elements in a list using a dictionary"
   ]
  },
  {
   "cell_type": "raw",
   "id": "9cb56876-9d74-4fad-97de-6b198e6395de",
   "metadata": {},
   "source": [
    "def top_3_most_common(lst):\n",
    "    #create a dictionary to store the frequency of each element\n",
    "    freq_dict={}\n",
    "\n",
    "    #iterate over the list to count the frequency of each element \n",
    "    for item in list:\n",
    "        if item in freq_dict:\n",
    "            freq_dict[item]+=1\n",
    "        else:\n",
    "            freq_dict[item]=1\n",
    "\n",
    "    #sort the dictionary by values in descending order and get the top 3\n",
    "    top_3=sorted(freq_dict.items(),key=lambda x: x[1],reverse=True)[:3]\n",
    "    return top_3\n",
    "\n",
    "#example usage\n",
    "#my_list=[1,2,2,3,3,4,5,5,6,6,6,]\n",
    "#print(top_3_most_common(my_list))"
   ]
  },
  {
   "cell_type": "markdown",
   "id": "19ae2fc0-a816-4f5a-89c3-7b30a0a04ae3",
   "metadata": {},
   "source": [
    "11. Calculate the greatest common divisor (GCD) of two numbers using recursion"
   ]
  },
  {
   "cell_type": "raw",
   "id": "66156736-4e18-43bd-a1be-b60f8a46f002",
   "metadata": {},
   "source": [
    "def gcd(x,y):\n",
    "    if b == 0:\n",
    "        return a\n",
    "    else:\n",
    "        return gcd(b,a%b)\n",
    "#test the function\n",
    "num1=int(input(\"Enter the first number:\"))\n",
    "num2=int(input(\"Enter the Second number:\"))\n",
    "print(\"The GCD of two numbers is:\",gcd(num1,num2))"
   ]
  },
  {
   "cell_type": "code",
   "execution_count": null,
   "id": "6de4145d-808c-402e-9eb1-964968ba4b61",
   "metadata": {},
   "outputs": [],
   "source": []
  }
 ],
 "metadata": {
  "kernelspec": {
   "display_name": "Python 3 (ipykernel)",
   "language": "python",
   "name": "python3"
  },
  "language_info": {
   "codemirror_mode": {
    "name": "ipython",
    "version": 3
   },
   "file_extension": ".py",
   "mimetype": "text/x-python",
   "name": "python",
   "nbconvert_exporter": "python",
   "pygments_lexer": "ipython3",
   "version": "3.12.4"
  }
 },
 "nbformat": 4,
 "nbformat_minor": 5
}
